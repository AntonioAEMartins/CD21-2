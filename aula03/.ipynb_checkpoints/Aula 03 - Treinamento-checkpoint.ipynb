{
 "cells": [
  {
   "cell_type": "markdown",
   "metadata": {},
   "source": [
    "## Treinamento da Aula 03 - Medidas Resumo e Histograma"
   ]
  },
  {
   "cell_type": "markdown",
   "metadata": {},
   "source": [
    "### Código:"
   ]
  },
  {
   "cell_type": "code",
   "execution_count": 26,
   "metadata": {},
   "outputs": [],
   "source": [
    "#Função Mágica do MatPlotLib\n",
    "%matplotlib inline\n",
    "#Import Pandas\n",
    "import pandas as pd\n",
    "#Import Matplotlib\n",
    "import matplotlib.pyplot as plt\n",
    "#Import - Sistema Operacional\n",
    "import os\n",
    "#Importando Numpy + Função específica \n",
    "from numpy import arange\n",
    "import numpy as np\n",
    "#Import Display\n",
    "from IPython.display import display"
   ]
  },
  {
   "cell_type": "code",
   "execution_count": 27,
   "metadata": {},
   "outputs": [
    {
     "name": "stdout",
     "output_type": "stream",
     "text": [
      "Esperamos trabalhar no diretório\n",
      "/Users/antonioamaralegydiomartins/Desktop/Antonio amaral/GitHub - Pessoal/CD21-2/aula03\n"
     ]
    }
   ],
   "source": [
    "#Checando Diretório \n",
    "print(\"Esperamos trabalhar no diretório\")\n",
    "print(os.getcwd())"
   ]
  },
  {
   "cell_type": "code",
   "execution_count": 28,
   "metadata": {},
   "outputs": [],
   "source": [
    "#Abrindo dados que serão utilizados\n",
    "dados = pd.read_excel(\"EmpresaTV_Cod.xlsx\")\n",
    "\n",
    "#Definindo Categorias para o DataFrame\n",
    "dados.PLANO = dados.PLANO.astype (\"category\")\n",
    "dados.EC = dados.EC.astype(\"category\")\n",
    "dados.SATISFACAO = dados.SATISFACAO.astype(\"category\")\n",
    "dados.RENDA = dados.RENDA.astype(\"float\")\n",
    "\n",
    "#Definindo Subcategorias\n",
    "dados.PLANO.cat.categories = ([\"A\",\"B\"]) #Seguindo a ordem [1,2]\n",
    "dados.EC.cat.categories =([\"Casado\",\"Solteiro\",\"Outros\"]) #Seguindo a ordem [1,2,3]\n",
    "\n",
    "#Definindo ordem para as Subcategorias de satisfação\n",
    "dados.SATISFACAO = pd.Categorical(dados.SATISFACAO,\n",
    "                                 categories = [\"Muito Insatisfeito\",\"Insatisfeito\",\"Indiferente\",\"Satisfeito\",\"Muito Satisfeito\"],\n",
    "                                 ordered = True)"
   ]
  },
  {
   "cell_type": "markdown",
   "metadata": {},
   "source": [
    "- ### *Medidas Resumo*\n",
    "\n",
    "O Objetivo deste tópico é compreender as informações contidas em variáveis quantitativas, recorrendo ao cálculo de algumas medidas como:\n",
    "- Média           `pd.mean()`\n",
    "- Percentis       `pd.quantile()`\n",
    "- Desvio Padrão   `pd.std()`\n",
    "- Variância       `pd.var()`"
   ]
  },
  {
   "cell_type": "code",
   "execution_count": 29,
   "metadata": {},
   "outputs": [],
   "source": [
    "#Criando DataFrames com Separação de Dados\n",
    "dados_a = dados.loc[dados[\"PLANO\"] == \"A\",:]\n",
    "dados_b = dados.loc[dados[\"PLANO\"] == \"B\",:]\n",
    "\n",
    "#Criando Series com apenas a coluna de renda dos Clientes de um particular plano\n",
    "renda_a = dados.loc[dados[\"PLANO\"] == \"A\",\"RENDA\"]\n",
    "renda_b = dados.loc[dados[\"PLANO\"] == \"B\",\"RENDA\"]\n",
    "\n",
    "#Outra forma de Criar as Series é a partir da alteração dos DataFrames Dados_a e Dados_b\n",
    "renda_a = dados_a[\"RENDA\"]\n",
    "renda_b = dados_b[\"RENDA\"]"
   ]
  },
  {
   "cell_type": "code",
   "execution_count": 30,
   "metadata": {},
   "outputs": [
    {
     "data": {
      "text/html": [
       "<div>\n",
       "<style scoped>\n",
       "    .dataframe tbody tr th:only-of-type {\n",
       "        vertical-align: middle;\n",
       "    }\n",
       "\n",
       "    .dataframe tbody tr th {\n",
       "        vertical-align: top;\n",
       "    }\n",
       "\n",
       "    .dataframe thead th {\n",
       "        text-align: right;\n",
       "    }\n",
       "</style>\n",
       "<table border=\"1\" class=\"dataframe\">\n",
       "  <thead>\n",
       "    <tr style=\"text-align: right;\">\n",
       "      <th></th>\n",
       "      <th>CLIENTE</th>\n",
       "      <th>PLANO</th>\n",
       "      <th>EC</th>\n",
       "      <th>SATISFACAO</th>\n",
       "      <th>RENDA</th>\n",
       "    </tr>\n",
       "  </thead>\n",
       "  <tbody>\n",
       "    <tr>\n",
       "      <th>0</th>\n",
       "      <td>1</td>\n",
       "      <td>A</td>\n",
       "      <td>Casado</td>\n",
       "      <td>Muito Satisfeito</td>\n",
       "      <td>21.4</td>\n",
       "    </tr>\n",
       "    <tr>\n",
       "      <th>1</th>\n",
       "      <td>2</td>\n",
       "      <td>A</td>\n",
       "      <td>Solteiro</td>\n",
       "      <td>Muito Satisfeito</td>\n",
       "      <td>17.2</td>\n",
       "    </tr>\n",
       "    <tr>\n",
       "      <th>2</th>\n",
       "      <td>3</td>\n",
       "      <td>A</td>\n",
       "      <td>Outros</td>\n",
       "      <td>Muito Satisfeito</td>\n",
       "      <td>15.6</td>\n",
       "    </tr>\n",
       "  </tbody>\n",
       "</table>\n",
       "</div>"
      ],
      "text/plain": [
       "   CLIENTE PLANO        EC        SATISFACAO  RENDA\n",
       "0        1     A    Casado  Muito Satisfeito   21.4\n",
       "1        2     A  Solteiro  Muito Satisfeito   17.2\n",
       "2        3     A    Outros  Muito Satisfeito   15.6"
      ]
     },
     "execution_count": 30,
     "metadata": {},
     "output_type": "execute_result"
    }
   ],
   "source": [
    "#Imprimindo DataFrame A\n",
    "dados_a.head(3)"
   ]
  },
  {
   "cell_type": "code",
   "execution_count": 31,
   "metadata": {},
   "outputs": [
    {
     "data": {
      "text/plain": [
       "0    21.4\n",
       "1    17.2\n",
       "2    15.6\n",
       "Name: RENDA, dtype: float64"
      ]
     },
     "execution_count": 31,
     "metadata": {},
     "output_type": "execute_result"
    }
   ],
   "source": [
    "#Imprimindo Series A\n",
    "renda_a.head(3)"
   ]
  },
  {
   "cell_type": "markdown",
   "metadata": {},
   "source": [
    "O Comando abaixo pode parecer complexo, por utilizar for de uma maneira diferente da antes vista em Python. Neste caso o For ira apresentar sempre dois títulos - colocados anteriormente, neste caso Plano A e Plano B - e ira varias os números presentes nas series inseridas - neste caso as series são renda_a e renda_b - e a variavel que guardará estes dados é a Var_quanti; que como será possível perceber consegue ter aplicada a si diversas funções como:`.mean`,`.min`,`.quantile`,`.median`,`.max`,`.var`,`.std`.\n",
    "\n",
    "As quais recebem sempre a quantidade de casas fracionarias, ao final, e no caso de Quantile recebem as porcentagens ou quantis."
   ]
  },
  {
   "cell_type": "code",
   "execution_count": 32,
   "metadata": {},
   "outputs": [
    {
     "name": "stdout",
     "output_type": "stream",
     "text": [
      "-----------------------------------\n",
      "Plano A\n",
      "-----------------------------------\n",
      "contagem               = 46\n",
      "média                  = 10.422\n",
      "mínimo                 = 0.700\n",
      "primeiro quartil (Q1)  = 7.475\n",
      "mediana          (Q2)  = 10.350\n",
      "terceiro quartil (Q3)  = 13.200\n",
      "máximo                 = 21.400\n",
      "variância amostral     = 19.941\n",
      "desvio padrão amostral = 4.466\n",
      "\n",
      "-----------------------------------\n",
      "Plano B\n",
      "-----------------------------------\n",
      "contagem               = 36\n",
      "média                  = 5.689\n",
      "mínimo                 = 0.600\n",
      "primeiro quartil (Q1)  = 4.150\n",
      "mediana          (Q2)  = 5.150\n",
      "terceiro quartil (Q3)  = 6.375\n",
      "máximo                 = 19.200\n",
      "variância amostral     = 10.847\n",
      "desvio padrão amostral = 3.293\n",
      "\n"
     ]
    }
   ],
   "source": [
    "for title, var_quanti in ((\"Plano A\",renda_a),(\"Plano B\", renda_b)):\n",
    "    print('-' * 5 * len(title))\n",
    "    print(title)\n",
    "    print('-' * 5 * len(title))\n",
    "    print(f'contagem               = {len(var_quanti)}')\n",
    "    print(f'média                  = {var_quanti.mean():.3f}')\n",
    "    print(f'mínimo                 = {var_quanti.min():.3f}')\n",
    "    print(f'primeiro quartil (Q1)  = {var_quanti.quantile(q=0.25):.3f}')\n",
    "    print(f'mediana          (Q2)  = {var_quanti.median():.3f}')\n",
    "    print(f'terceiro quartil (Q3)  = {var_quanti.quantile(q=0.75):.3f}')\n",
    "    print(f'máximo                 = {var_quanti.max():.3f}')\n",
    "    print(f'variância amostral     = {var_quanti.var():.3f}')\n",
    "    print(f'desvio padrão amostral = {var_quanti.std():.3f}')\n",
    "    print()"
   ]
  },
  {
   "cell_type": "markdown",
   "metadata": {},
   "source": [
    "- ### *Histograma*"
   ]
  },
  {
   "cell_type": "markdown",
   "metadata": {},
   "source": [
    "Uma vez que já vimos como separar um DataFrame em diversos DataFrames - divididos por categorias; E vimos tambem como coletar os dados de Series, retiradas do Dataframe secundário, e analisá-los utilizando funções.\n",
    "\n",
    "Agora veremos Histograma, que é um gráfico adequado para representar as frequências - contagem ou relativas - de variáveis quantitativas.\n",
    "\n",
    "`Eixo X:` Representação da grandeza da variável quantitativa que está sendo estudada\n",
    "\n",
    "`Eixo Y:` Frequência absoluta (contagem) ou densidade."
   ]
  },
  {
   "cell_type": "markdown",
   "metadata": {},
   "source": [
    "- #### Amplitudes iguais\n",
    "\n",
    "Neste caso estamos tratando de Renda, considerando assim uma amplitude igual de tamanho 3.5"
   ]
  },
  {
   "cell_type": "code",
   "execution_count": 33,
   "metadata": {},
   "outputs": [
    {
     "data": {
      "text/plain": [
       "array([ 0.5,  4. ,  7.5, 11. , 14.5, 18. , 21.5])"
      ]
     },
     "execution_count": 33,
     "metadata": {},
     "output_type": "execute_result"
    }
   ],
   "source": [
    "#Import Numpy - Arange\n",
    "from numpy import arange\n",
    "#Definindo Faixas de Amplitude\n",
    "faixa1 = arange(0.5,22,3.5)\n",
    "#Observando Faixas\n",
    "faixa1"
   ]
  },
  {
   "cell_type": "code",
   "execution_count": 34,
   "metadata": {},
   "outputs": [
    {
     "data": {
      "image/png": "[encoded data removed]",
      "text/plain": [
       "<Figure size 1080x360 with 2 Axes>"
      ]
     },
     "metadata": {
      "needs_background": "light"
     },
     "output_type": "display_data"
    }
   ],
   "source": [
    "#Criando Histograma\n",
    "plt.figure(figsize = (15,5))\n",
    "\n",
    "#Utilizaremos Subplot para conseguir plotar diversos gráficos\n",
    "plt.subplot(121)\n",
    "plt.hist(dados.RENDA,bins = faixa1, edgecolor = \"white\")\n",
    "plt.title(\"Contage (Eixo Y) e Amplitudes iguais\")\n",
    "plt.ylabel (\"Frequência\")\n",
    "plt.xlabel (\"Faixa\")\n",
    "\n",
    "plt.subplot(122)\n",
    "plt.hist(dados.RENDA, bins = faixa1, edgecolor = \"white\", density = True)\n",
    "plt.title (\"Densidade (Eixo Y) e Amplitudes iguais\")\n",
    "plt.ylabel (\"Densidade\")\n",
    "plt.xlabel (\"Faixa\")\n",
    "\n",
    "plt.show()"
   ]
  },
  {
   "cell_type": "markdown",
   "metadata": {},
   "source": [
    "- #### Amplitudes desiguais"
   ]
  },
  {
   "cell_type": "code",
   "execution_count": 35,
   "metadata": {},
   "outputs": [
    {
     "data": {
      "text/plain": [
       "[0.5, 4, 7.5, 11, 21.5]"
      ]
     },
     "execution_count": 35,
     "metadata": {},
     "output_type": "execute_result"
    }
   ],
   "source": [
    "#Definindo Faixa de Amplitude Desigual\n",
    "faixa2 = [0.5,4,7.5,11,21.5]\n",
    "#Observando Faixa\n",
    "faixa2"
   ]
  },
  {
   "cell_type": "code",
   "execution_count": 36,
   "metadata": {},
   "outputs": [
    {
     "data": {
      "image/png": "[encoded data removed]",
      "text/plain": [
       "<Figure size 1080x360 with 2 Axes>"
      ]
     },
     "metadata": {
      "needs_background": "light"
     },
     "output_type": "display_data"
    }
   ],
   "source": [
    "#Criando Histograma\n",
    "plt.figure(figsize = (15,5))\n",
    "\n",
    "plt.subplot(121)\n",
    "plt.hist(dados.RENDA, bins=faixa2, edgecolor=\"white\",color=\"darkorange\")\n",
    "plt.title(\"Contagem (Eixo Y) e Amplitudes desiguais\")\n",
    "plt.ylabel(\"Frequência\")\n",
    "\n",
    "plt.subplot(122)\n",
    "plt.hist(dados.RENDA, bins=faixa2, edgecolor=\"white\", color=\"darkorange\", density=True)\n",
    "plt.title (\"Densidade (Eixo Y) e Ampkitudes desiguais\")\n",
    "plt.ylabel(\"Densidade\")\n",
    "\n",
    "plt.show()"
   ]
  }
 ],
 "metadata": {
  "kernelspec": {
   "display_name": "Python 3",
   "language": "python",
   "name": "python3"
  },
  "language_info": {
   "codemirror_mode": {
    "name": "ipython",
    "version": 3
   },
   "file_extension": ".py",
   "mimetype": "text/x-python",
   "name": "python",
   "nbconvert_exporter": "python",
   "pygments_lexer": "ipython3",
   "version": "3.8.5"
  }
 },
 "nbformat": 4,
 "nbformat_minor": 4
}
