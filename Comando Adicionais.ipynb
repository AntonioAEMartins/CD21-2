{
 "cells": [
  {
   "cell_type": "markdown",
   "metadata": {},
   "source": [
    "## Comando Para Prova\n",
    "\n",
    "Este arquivo têm alguns comando complementares que podem ser utilizados na prova em caso de questões fora das vistas em aula.\n",
    "\n",
    "Funções utilizadas neste arquivo:\n",
    "- `.crosstab` = Inverter Colunas por Linhas\n",
    "- `.dropna`"
   ]
  },
  {
   "cell_type": "code",
   "execution_count": null,
   "metadata": {},
   "outputs": [],
   "source": [
    "#Crosstab\n",
    "x = pd.crosstab(df['corte'],df['id'], normalize='index').round(2)\n",
    "\n",
    "y = df.loc[dia_ideal,['peso','corte']]"
   ]
  }
 ],
 "metadata": {
  "kernelspec": {
   "display_name": "Python 3",
   "language": "python",
   "name": "python3"
  },
  "language_info": {
   "codemirror_mode": {
    "name": "ipython",
    "version": 3
   },
   "file_extension": ".py",
   "mimetype": "text/x-python",
   "name": "python",
   "nbconvert_exporter": "python",
   "pygments_lexer": "ipython3",
   "version": "3.8.5"
  }
 },
 "nbformat": 4,
 "nbformat_minor": 4
}
