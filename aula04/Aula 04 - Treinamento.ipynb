{
 "cells": [
  {
   "cell_type": "markdown",
   "metadata": {},
   "source": [
    "## Treinamento - Duas Variáveis Quantitativas\n",
    "\n",
    "### Comando utilizados neste treinamento:\n",
    "#### Associação\n",
    "- `.cov`\n",
    "- `.corr`\n",
    "\n",
    "#### Gráfico\n",
    "- `plt.scatter`\n",
    "- `.plot.scatter` \n",
    "- `plt.figure`\n",
    "- `plt.subplot`\n",
    "- `plt.title`\n",
    "- `plt.xlabel`\n",
    "- `plt.ylabel`\n",
    "- `plt.show`\n",
    "\n"
   ]
  },
  {
   "cell_type": "markdown",
   "metadata": {},
   "source": [
    "### Código:"
   ]
  },
  {
   "cell_type": "code",
   "execution_count": 6,
   "metadata": {},
   "outputs": [
    {
     "name": "stdout",
     "output_type": "stream",
     "text": [
      "Esperamos trabalhar no diretório:\n",
      "/Users/antonioamaralegydiomartins/Desktop/Antonio amaral/GitHub - Pessoal/CD21-2/aula04\n"
     ]
    }
   ],
   "source": [
    "#Definindo Função Mágica\n",
    "%matplotlib inline\n",
    "#Import Pandas\n",
    "import pandas as pd\n",
    "#Import Numpy\n",
    "import numpy as np\n",
    "#Import Matplotlib\n",
    "import matplotlib.pyplot as plt\n",
    "#Import - Sistema Operacional\n",
    "import os\n",
    "\n",
    "#Definindo Diretíorio\n",
    "print(\"Esperamos trabalhar no diretório:\\n{}\".format(os.getcwd()))"
   ]
  },
  {
   "cell_type": "code",
   "execution_count": 7,
   "metadata": {},
   "outputs": [
    {
     "data": {
      "text/html": [
       "<div>\n",
       "<style scoped>\n",
       "    .dataframe tbody tr th:only-of-type {\n",
       "        vertical-align: middle;\n",
       "    }\n",
       "\n",
       "    .dataframe tbody tr th {\n",
       "        vertical-align: top;\n",
       "    }\n",
       "\n",
       "    .dataframe thead th {\n",
       "        text-align: right;\n",
       "    }\n",
       "</style>\n",
       "<table border=\"1\" class=\"dataframe\">\n",
       "  <thead>\n",
       "    <tr style=\"text-align: right;\">\n",
       "      <th></th>\n",
       "      <th>i</th>\n",
       "      <th>X1</th>\n",
       "      <th>X2</th>\n",
       "      <th>X3</th>\n",
       "      <th>X4</th>\n",
       "      <th>X5</th>\n",
       "      <th>X6</th>\n",
       "      <th>X7</th>\n",
       "      <th>X8</th>\n",
       "      <th>X9</th>\n",
       "      <th>X10</th>\n",
       "    </tr>\n",
       "  </thead>\n",
       "  <tbody>\n",
       "    <tr>\n",
       "      <th>0</th>\n",
       "      <td>1</td>\n",
       "      <td>20500</td>\n",
       "      <td>25.0</td>\n",
       "      <td>18</td>\n",
       "      <td>44</td>\n",
       "      <td>45</td>\n",
       "      <td>2.8</td>\n",
       "      <td>168.0</td>\n",
       "      <td>205</td>\n",
       "      <td>14</td>\n",
       "      <td>0.205</td>\n",
       "    </tr>\n",
       "    <tr>\n",
       "      <th>1</th>\n",
       "      <td>2</td>\n",
       "      <td>33900</td>\n",
       "      <td>12.0</td>\n",
       "      <td>86</td>\n",
       "      <td>75</td>\n",
       "      <td>68</td>\n",
       "      <td>1.3</td>\n",
       "      <td>25.6</td>\n",
       "      <td>3408</td>\n",
       "      <td>95</td>\n",
       "      <td>0.339</td>\n",
       "    </tr>\n",
       "    <tr>\n",
       "      <th>2</th>\n",
       "      <td>3</td>\n",
       "      <td>3700</td>\n",
       "      <td>126.0</td>\n",
       "      <td>68</td>\n",
       "      <td>75</td>\n",
       "      <td>68</td>\n",
       "      <td>1.4</td>\n",
       "      <td>27.0</td>\n",
       "      <td>5000</td>\n",
       "      <td>100</td>\n",
       "      <td>0.037</td>\n",
       "    </tr>\n",
       "  </tbody>\n",
       "</table>\n",
       "</div>"
      ],
      "text/plain": [
       "   i     X1     X2  X3  X4  X5   X6     X7    X8   X9    X10\n",
       "0  1  20500   25.0  18  44  45  2.8  168.0   205   14  0.205\n",
       "1  2  33900   12.0  86  75  68  1.3   25.6  3408   95  0.339\n",
       "2  3   3700  126.0  68  75  68  1.4   27.0  5000  100  0.037"
      ]
     },
     "execution_count": 7,
     "metadata": {},
     "output_type": "execute_result"
    }
   ],
   "source": [
    "#Carregando Dados Utilizados\n",
    "mundo = pd.read_excel(\"Mundo.xlsx\")\n",
    "#Checando Dados\n",
    "mundo.head(3)"
   ]
  },
  {
   "cell_type": "markdown",
   "metadata": {},
   "source": [
    "- ### *Gráfico de Dispersão*\n",
    "\n",
    "Um gráfico de dispersão pode ser utilizado para compreender a relação entre duas variáveis quantitativas - que não necessariamente implicam em causalidade.\n",
    "É possível construir um gráfico de Dispersão com diversas bibliotecas, neste caso utilizaremos a `matplotlib`.\n",
    "\n",
    "Para a Construção deste gráfico serão utilizados não apenas os dados do Dataframe, mas tmabem utilizaremos cores e transparencias diferentes, para mostrar a sobreposição de dados."
   ]
  },
  {
   "cell_type": "code",
   "execution_count": 10,
   "metadata": {},
   "outputs": [
    {
     "data": {
      "image/png": "[encoded data removed]",
      "text/plain": [
       "<Figure size 432x288 with 1 Axes>"
      ]
     },
     "metadata": {
      "needs_background": "light"
     },
     "output_type": "display_data"
    }
   ],
   "source": [
    "#Definindo Scatter + Cor + Transparência\n",
    "plt.scatter(mundo.X3, mundo[\"X4\"],c=\"red\", alpha=0.4) #Foram utilizadas duas formas de chamar a variavel\n",
    "plt.title (\"X3 vs. X4\")\n",
    "plt.xlabel (\"% de população urbana\")\n",
    "plt.ylabel (\"Expectativa de vida Feminina\")\n",
    "plt.show()"
   ]
  },
  {
   "cell_type": "code",
   "execution_count": 13,
   "metadata": {},
   "outputs": [
    {
     "name": "stdout",
     "output_type": "stream",
     "text": [
      "A correlação entre a minha % de Urbanização e Expectattiva de Vida Feminina é de:=0.748\n"
     ]
    }
   ],
   "source": [
    "#Definindo Correlação\n",
    "correlation = mundo.X3. corr(mundo.X4)\n",
    "print(f\"A correlação entre a minha % de Urbanização e Expectattiva de Vida Feminina é de:={correlation:.3f}\")"
   ]
  },
  {
   "cell_type": "markdown",
   "metadata": {},
   "source": [
    "- ### Observação\n",
    "\n",
    "É importante notas que o `DataFrame` do pandas também possui um método que gera um gráfico de dispersão (ScatterPlot). Ele é compatível com o `matplotlib`, então pode ser utilizado para substituir o comando `plt.scatter` mantendo or esto do código intacto."
   ]
  },
  {
   "cell_type": "code",
   "execution_count": 14,
   "metadata": {},
   "outputs": [
    {
     "data": {
      "image/png": "[encoded data removed]",
      "text/plain": [
       "<Figure size 432x288 with 1 Axes>"
      ]
     },
     "metadata": {
      "needs_background": "light"
     },
     "output_type": "display_data"
    }
   ],
   "source": [
    "mundo.plot.scatter(x=\"X3\", y=\"X4\");"
   ]
  },
  {
   "cell_type": "markdown",
   "metadata": {},
   "source": [
    "- ### Coeficiente de Covariância\n",
    "\n",
    "O gráfio de dispersão é uma ferramenta descritica simples, porém útil para examinar uma possível relação entre varáveis quantitativas. A literatura estatística apresenta uma medida, nomeada de covariância, cujo sinal pode ser um indicativo do tipo de associação inear: `positiva`, se maior que zero; `negativa`, se menor que zero; e `ausente` de associação linear se igual a zero."
   ]
  },
  {
   "cell_type": "code",
   "execution_count": 15,
   "metadata": {},
   "outputs": [
    {
     "data": {
      "text/plain": [
       "194.34985994397758"
      ]
     },
     "execution_count": 15,
     "metadata": {},
     "output_type": "execute_result"
    }
   ],
   "source": [
    "#A biblioteca pandas já possui uma função .cov em um pd.Series para o cálculo da covariância\n",
    "mundo.X3.cov(mundo.X4)"
   ]
  },
  {
   "cell_type": "markdown",
   "metadata": {},
   "source": [
    "- ### Coeficiente de Correlação Linear"
   ]
  },
  {
   "cell_type": "markdown",
   "metadata": {},
   "source": [
    "O Coeficiente de Correlação Linear é o cálculo que já estava sendo realizado acima, em que ocorre a diferenciação do Coeficiente de Covariância e deixa claro para quem estiver analisando os dados se existe ou não Correlação entre os dados comparados.\n",
    "\n",
    "\n",
    "$$\\mathrm{Corr}(X, Y) = \\frac{\\mathrm{Cov}(X, Y)}{\\mathrm{DP}(X)\\mathrm{DP}(Y)}$$\n",
    "\n"
   ]
  },
  {
   "cell_type": "code",
   "execution_count": 19,
   "metadata": {},
   "outputs": [
    {
     "name": "stdout",
     "output_type": "stream",
     "text": [
      "A Correlação entre X3 e X7 é de:= -0.724\n"
     ]
    }
   ],
   "source": [
    "correlation = mundo.X3. corr(mundo.X7)\n",
    "print(f\"A Correlação entre X3 e X7 é de:= {correlation:.3f}\")"
   ]
  }
 ],
 "metadata": {
  "kernelspec": {
   "display_name": "Python 3",
   "language": "python",
   "name": "python3"
  },
  "language_info": {
   "codemirror_mode": {
    "name": "ipython",
    "version": 3
   },
   "file_extension": ".py",
   "mimetype": "text/x-python",
   "name": "python",
   "nbconvert_exporter": "python",
   "pygments_lexer": "ipython3",
   "version": "3.8.5"
  }
 },
 "nbformat": 4,
 "nbformat_minor": 4
}
