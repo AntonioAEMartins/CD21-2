{
 "cells": [
  {
   "cell_type": "code",
   "execution_count": 1,
   "metadata": {},
   "outputs": [],
   "source": [
    "import numpy as np\n",
    "from scipy import linalg"
   ]
  },
  {
   "cell_type": "code",
   "execution_count": 3,
   "metadata": {},
   "outputs": [
    {
     "name": "stdout",
     "output_type": "stream",
     "text": [
      "[[ 1.22580645]\n",
      " [ 1.93548387]\n",
      " [-0.70967742]\n",
      " [ 1.29032258]\n",
      " [ 3.87096774]]\n"
     ]
    }
   ],
   "source": [
    "A = [[1,-1,-1,0,0],[0,0,1,-1,0],[-5,-2,0,0,0],[0,2,0,-3,0],[0,0,0,3,-1]]\n",
    "C = [[0],[-2],[-10],[0],[0]]\n",
    "B = np.dot(linalg.inv(A),C)\n",
    "print(B)"
   ]
  },
  {
   "cell_type": "code",
   "execution_count": null,
   "metadata": {},
   "outputs": [],
   "source": []
  }
 ],
 "metadata": {
  "kernelspec": {
   "display_name": "Python 3",
   "language": "python",
   "name": "python3"
  },
  "language_info": {
   "codemirror_mode": {
    "name": "ipython",
    "version": 3
   },
   "file_extension": ".py",
   "mimetype": "text/x-python",
   "name": "python",
   "nbconvert_exporter": "python",
   "pygments_lexer": "ipython3",
   "version": "3.8.5"
  }
 },
 "nbformat": 4,
 "nbformat_minor": 4
}
